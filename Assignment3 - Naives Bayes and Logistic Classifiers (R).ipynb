{
 "cells": [
  {
   "cell_type": "markdown",
   "metadata": {},
   "source": [
    "## <span style=color:darkblue> Assignment: Naives Bayes and Logistic Classifiers </span>\n",
    "\n",
    "- Ashlea Pin Jui Huang - 989357938"
   ]
  },
  {
   "cell_type": "code",
   "execution_count": 3,
   "metadata": {},
   "outputs": [
    {
     "name": "stdout",
     "output_type": "stream",
     "text": [
      "\n",
      "The downloaded binary packages are in\n",
      "\t/var/folders/0f/c21z6n2d4xz2mktks7q9y0zh0000gn/T//RtmpBwcipX/downloaded_packages\n"
     ]
    },
    {
     "name": "stderr",
     "output_type": "stream",
     "text": [
      "Registered S3 method overwritten by 'pryr':\n",
      "  method      from\n",
      "  print.bytes Rcpp\n",
      "\n",
      "\n",
      "Attaching package: ‘pryr’\n",
      "\n",
      "\n",
      "The following object is masked from ‘package:pracma’:\n",
      "\n",
      "    bits\n",
      "\n",
      "\n"
     ]
    },
    {
     "name": "stdout",
     "output_type": "stream",
     "text": [
      "\n",
      "The downloaded binary packages are in\n",
      "\t/var/folders/0f/c21z6n2d4xz2mktks7q9y0zh0000gn/T//RtmpBwcipX/downloaded_packages\n",
      "\n",
      "The downloaded binary packages are in\n",
      "\t/var/folders/0f/c21z6n2d4xz2mktks7q9y0zh0000gn/T//RtmpBwcipX/downloaded_packages\n"
     ]
    },
    {
     "name": "stderr",
     "output_type": "stream",
     "text": [
      "Loading required package: zoo\n",
      "\n",
      "\n",
      "Attaching package: ‘zoo’\n",
      "\n",
      "\n",
      "The following objects are masked from ‘package:base’:\n",
      "\n",
      "    as.Date, as.Date.numeric\n",
      "\n",
      "\n",
      "Loading required package: reshape2\n",
      "\n",
      "\n",
      "Attaching package: ‘zoocat’\n",
      "\n",
      "\n",
      "The following object is masked from ‘package:stats’:\n",
      "\n",
      "    cor\n",
      "\n",
      "\n"
     ]
    }
   ],
   "source": [
    "library(pracma)\n",
    "install.packages(\"pryr\")\n",
    "library(pryr)\n",
    "install.packages(\"Deriv\")\n",
    "library(Deriv)\n",
    "install.packages(\"zoocat\")\n",
    "library(zoocat)"
   ]
  },
  {
   "cell_type": "markdown",
   "metadata": {},
   "source": [
    "### Problem 1\n",
    "Given the function $f(x)=x^2+6x$\n",
    "#### Part 1\n",
    "Use derivative of f(x) to find the value of x that minimizes this function."
   ]
  },
  {
   "cell_type": "code",
   "execution_count": 4,
   "metadata": {},
   "outputs": [
    {
     "data": {
      "text/html": [
       "<pre class=language-r><code>function (x) \n",
       "2 * x + 6</code></pre>"
      ],
      "text/latex": [
       "\\begin{minted}{r}\n",
       "function (x) \n",
       "2 * x + 6\n",
       "\\end{minted}"
      ],
      "text/markdown": [
       "```r\n",
       "function (x) \n",
       "2 * x + 6\n",
       "```"
      ],
      "text/plain": [
       "function (x) \n",
       "2 * x + 6"
      ]
     },
     "metadata": {},
     "output_type": "display_data"
    }
   ],
   "source": [
    "f = function(x) x^2+6*x\n",
    "d = Deriv(f)\n",
    "d"
   ]
  },
  {
   "cell_type": "markdown",
   "metadata": {},
   "source": [
    "For this problem, we will use deriv function to find the value of x.\n",
    "\n",
    "As you can see $\\frac{d}{dx}=2x+6$, the solution will be shown below:\n",
    "\n",
    "Set $\\frac{d}{dx}=0$\n",
    "\n",
    "Which means $2x+6=0,  x=-3$\n",
    "\n",
    "Therefore $x=-3$ will minimize the function."
   ]
  },
  {
   "cell_type": "markdown",
   "metadata": {},
   "source": [
    "#### Part 2\n",
    "Use gradient descent to find the value of x that minimizes this function. Compare your answer with the previous part."
   ]
  },
  {
   "cell_type": "code",
   "execution_count": 5,
   "metadata": {},
   "outputs": [
    {
     "name": "stdout",
     "output_type": "stream",
     "text": [
      "[1] -3\n"
     ]
    }
   ],
   "source": [
    "grad = function(x)2*x+6\n",
    "x = 0.1 # initialize the first guess for x\n",
    "alpha = 0.6 # define the learning rate\n",
    "j = 100 #iterations\n",
    "for (step in 1:j) {\n",
    "x = x - alpha*grad(x) # finding the value of x\n",
    "}\n",
    "print(x)"
   ]
  },
  {
   "cell_type": "markdown",
   "metadata": {},
   "source": [
    "As seen above, gradient descent covergence is $x=-3$, which matches the answer in the previous question."
   ]
  },
  {
   "cell_type": "markdown",
   "metadata": {},
   "source": [
    "### Problem 2\n",
    "\n",
    "The Space Shuttle Challenger disaster occurred on January 28, 1986, when it broke apart 73 seconds into its flight, leading to the deaths of its seven crew members. The spacecraft disintegrated over the Atlantic Ocean, off the coast of central Florida at 11:38 EST. Disintegration of the entire vehicle began after an O-ring seal in its right solid rocket booster failed at liftoff. Subsequently, a special commission was appointed to investigate the accident. The commission found that NASA disregarded warnings from engineers about the dangers of launching posed by the low temperatures of that morning, claiming that en- gineers could not provide a convincing argument against the launch (source: Wikipedia, Applied Probability for Engineers).\n",
    "File Oring.csv provides data on launch temperature and O-ring failure for the 24-space shuttle launches prior to the Challenger disaster. There are six O-rings used to seal field joints on the rocket motor assembly. A +1 in the O-rings indicates that at least one O-ring failure had occurred on that launch and a 0 indicates that no failure had occurred."
   ]
  },
  {
   "cell_type": "code",
   "execution_count": 6,
   "metadata": {},
   "outputs": [],
   "source": [
    "oring = read.csv('/Users/AshleaHuang/Desktop/ORing.csv')"
   ]
  },
  {
   "cell_type": "code",
   "execution_count": 7,
   "metadata": {},
   "outputs": [
    {
     "data": {
      "text/html": [
       "<table>\n",
       "<caption>A data.frame: 6 × 2</caption>\n",
       "<thead>\n",
       "\t<tr><th scope=col>Temp</th><th scope=col>Failure</th></tr>\n",
       "\t<tr><th scope=col>&lt;int&gt;</th><th scope=col>&lt;int&gt;</th></tr>\n",
       "</thead>\n",
       "<tbody>\n",
       "\t<tr><td>53</td><td>1</td></tr>\n",
       "\t<tr><td>56</td><td>1</td></tr>\n",
       "\t<tr><td>57</td><td>1</td></tr>\n",
       "\t<tr><td>63</td><td>0</td></tr>\n",
       "\t<tr><td>66</td><td>0</td></tr>\n",
       "\t<tr><td>67</td><td>0</td></tr>\n",
       "</tbody>\n",
       "</table>\n"
      ],
      "text/latex": [
       "A data.frame: 6 × 2\n",
       "\\begin{tabular}{r|ll}\n",
       " Temp & Failure\\\\\n",
       " <int> & <int>\\\\\n",
       "\\hline\n",
       "\t 53 & 1\\\\\n",
       "\t 56 & 1\\\\\n",
       "\t 57 & 1\\\\\n",
       "\t 63 & 0\\\\\n",
       "\t 66 & 0\\\\\n",
       "\t 67 & 0\\\\\n",
       "\\end{tabular}\n"
      ],
      "text/markdown": [
       "\n",
       "A data.frame: 6 × 2\n",
       "\n",
       "| Temp &lt;int&gt; | Failure &lt;int&gt; |\n",
       "|---|---|\n",
       "| 53 | 1 |\n",
       "| 56 | 1 |\n",
       "| 57 | 1 |\n",
       "| 63 | 0 |\n",
       "| 66 | 0 |\n",
       "| 67 | 0 |\n",
       "\n"
      ],
      "text/plain": [
       "  Temp Failure\n",
       "1 53   1      \n",
       "2 56   1      \n",
       "3 57   1      \n",
       "4 63   0      \n",
       "5 66   0      \n",
       "6 67   0      "
      ]
     },
     "metadata": {},
     "output_type": "display_data"
    }
   ],
   "source": [
    "head(oring)"
   ]
  },
  {
   "cell_type": "markdown",
   "metadata": {},
   "source": [
    "#### Part 1\n",
    "Normalize the launch temperature using the expression $\\frac{x−μ}{σ}$"
   ]
  },
  {
   "cell_type": "code",
   "execution_count": 8,
   "metadata": {},
   "outputs": [],
   "source": [
    "#normalize temp\n",
    "temp_nor = normalize(oring$Temp, method = 'sd1')\n",
    "#new data\n",
    "oring_nor = data.frame(Temp = temp_nor, Failure = oring$Failure)"
   ]
  },
  {
   "cell_type": "code",
   "execution_count": 9,
   "metadata": {},
   "outputs": [
    {
     "data": {
      "text/html": [
       "<table>\n",
       "<caption>A data.frame: 24 × 2</caption>\n",
       "<thead>\n",
       "\t<tr><th scope=col>Temp</th><th scope=col>Failure</th></tr>\n",
       "\t<tr><th scope=col>&lt;dbl&gt;</th><th scope=col>&lt;int&gt;</th></tr>\n",
       "</thead>\n",
       "<tbody>\n",
       "\t<tr><td>-2.2930074</td><td>1</td></tr>\n",
       "\t<tr><td>-1.8863657</td><td>1</td></tr>\n",
       "\t<tr><td>-1.7508184</td><td>1</td></tr>\n",
       "\t<tr><td>-0.9375350</td><td>0</td></tr>\n",
       "\t<tr><td>-0.5308933</td><td>0</td></tr>\n",
       "\t<tr><td>-0.3953461</td><td>0</td></tr>\n",
       "\t<tr><td>-0.3953461</td><td>0</td></tr>\n",
       "\t<tr><td>-0.3953461</td><td>0</td></tr>\n",
       "\t<tr><td>-0.2597989</td><td>0</td></tr>\n",
       "\t<tr><td>-0.1242516</td><td>0</td></tr>\n",
       "\t<tr><td> 0.0112956</td><td>0</td></tr>\n",
       "\t<tr><td> 0.0112956</td><td>1</td></tr>\n",
       "\t<tr><td> 0.0112956</td><td>1</td></tr>\n",
       "\t<tr><td> 0.0112956</td><td>1</td></tr>\n",
       "\t<tr><td> 0.2823901</td><td>0</td></tr>\n",
       "\t<tr><td> 0.4179373</td><td>0</td></tr>\n",
       "\t<tr><td> 0.6890318</td><td>0</td></tr>\n",
       "\t<tr><td> 0.6890318</td><td>1</td></tr>\n",
       "\t<tr><td> 0.8245790</td><td>0</td></tr>\n",
       "\t<tr><td> 0.8245790</td><td>0</td></tr>\n",
       "\t<tr><td> 1.0956735</td><td>0</td></tr>\n",
       "\t<tr><td> 1.2312207</td><td>0</td></tr>\n",
       "\t<tr><td> 1.3667680</td><td>0</td></tr>\n",
       "\t<tr><td> 1.5023152</td><td>0</td></tr>\n",
       "</tbody>\n",
       "</table>\n"
      ],
      "text/latex": [
       "A data.frame: 24 × 2\n",
       "\\begin{tabular}{r|ll}\n",
       " Temp & Failure\\\\\n",
       " <dbl> & <int>\\\\\n",
       "\\hline\n",
       "\t -2.2930074 & 1\\\\\n",
       "\t -1.8863657 & 1\\\\\n",
       "\t -1.7508184 & 1\\\\\n",
       "\t -0.9375350 & 0\\\\\n",
       "\t -0.5308933 & 0\\\\\n",
       "\t -0.3953461 & 0\\\\\n",
       "\t -0.3953461 & 0\\\\\n",
       "\t -0.3953461 & 0\\\\\n",
       "\t -0.2597989 & 0\\\\\n",
       "\t -0.1242516 & 0\\\\\n",
       "\t  0.0112956 & 0\\\\\n",
       "\t  0.0112956 & 1\\\\\n",
       "\t  0.0112956 & 1\\\\\n",
       "\t  0.0112956 & 1\\\\\n",
       "\t  0.2823901 & 0\\\\\n",
       "\t  0.4179373 & 0\\\\\n",
       "\t  0.6890318 & 0\\\\\n",
       "\t  0.6890318 & 1\\\\\n",
       "\t  0.8245790 & 0\\\\\n",
       "\t  0.8245790 & 0\\\\\n",
       "\t  1.0956735 & 0\\\\\n",
       "\t  1.2312207 & 0\\\\\n",
       "\t  1.3667680 & 0\\\\\n",
       "\t  1.5023152 & 0\\\\\n",
       "\\end{tabular}\n"
      ],
      "text/markdown": [
       "\n",
       "A data.frame: 24 × 2\n",
       "\n",
       "| Temp &lt;dbl&gt; | Failure &lt;int&gt; |\n",
       "|---|---|\n",
       "| -2.2930074 | 1 |\n",
       "| -1.8863657 | 1 |\n",
       "| -1.7508184 | 1 |\n",
       "| -0.9375350 | 0 |\n",
       "| -0.5308933 | 0 |\n",
       "| -0.3953461 | 0 |\n",
       "| -0.3953461 | 0 |\n",
       "| -0.3953461 | 0 |\n",
       "| -0.2597989 | 0 |\n",
       "| -0.1242516 | 0 |\n",
       "|  0.0112956 | 0 |\n",
       "|  0.0112956 | 1 |\n",
       "|  0.0112956 | 1 |\n",
       "|  0.0112956 | 1 |\n",
       "|  0.2823901 | 0 |\n",
       "|  0.4179373 | 0 |\n",
       "|  0.6890318 | 0 |\n",
       "|  0.6890318 | 1 |\n",
       "|  0.8245790 | 0 |\n",
       "|  0.8245790 | 0 |\n",
       "|  1.0956735 | 0 |\n",
       "|  1.2312207 | 0 |\n",
       "|  1.3667680 | 0 |\n",
       "|  1.5023152 | 0 |\n",
       "\n"
      ],
      "text/plain": [
       "   Temp       Failure\n",
       "1  -2.2930074 1      \n",
       "2  -1.8863657 1      \n",
       "3  -1.7508184 1      \n",
       "4  -0.9375350 0      \n",
       "5  -0.5308933 0      \n",
       "6  -0.3953461 0      \n",
       "7  -0.3953461 0      \n",
       "8  -0.3953461 0      \n",
       "9  -0.2597989 0      \n",
       "10 -0.1242516 0      \n",
       "11  0.0112956 0      \n",
       "12  0.0112956 1      \n",
       "13  0.0112956 1      \n",
       "14  0.0112956 1      \n",
       "15  0.2823901 0      \n",
       "16  0.4179373 0      \n",
       "17  0.6890318 0      \n",
       "18  0.6890318 1      \n",
       "19  0.8245790 0      \n",
       "20  0.8245790 0      \n",
       "21  1.0956735 0      \n",
       "22  1.2312207 0      \n",
       "23  1.3667680 0      \n",
       "24  1.5023152 0      "
      ]
     },
     "metadata": {},
     "output_type": "display_data"
    }
   ],
   "source": [
    "oring_nor"
   ]
  },
  {
   "cell_type": "markdown",
   "metadata": {},
   "source": [
    "#### Part 2\n",
    "Create a logistic regression model using the gradient decent technique to predict the probability of O-ring failure based on the launch temperature. Provide the equation for your model."
   ]
  },
  {
   "cell_type": "code",
   "execution_count": 10,
   "metadata": {},
   "outputs": [
    {
     "name": "stdout",
     "output_type": "stream",
     "text": [
      "[1] -1.102804 -1.263910\n"
     ]
    }
   ],
   "source": [
    "x = cbind(rep(1, length(oring_nor$Temp)), oring_nor$Temp)\n",
    "\n",
    "#assign 2 numbers from a normal distribution with mean 0 for weights\n",
    "w1 = rnorm(2,0,0.1)\n",
    "#learning rate\n",
    "alpha = 0.01\n",
    "#iterations\n",
    "j=500 \n",
    "\n",
    "#update the weights\n",
    "for (i in 1:j){\n",
    "  new_w = w1 - alpha * rowSums(sapply(1:length(x[,1]), function(i) as.vector((1/(1 + exp(-(w1 %*% x[i,]))) - oring_nor$Failure[i])) * x[i,]))\n",
    "  w1 = new_w\n",
    "                                   }\n",
    "print(w1)"
   ]
  },
  {
   "cell_type": "code",
   "execution_count": 17,
   "metadata": {},
   "outputs": [
    {
     "data": {
      "text/html": [
       "<table>\n",
       "<caption>A matrix: 24 × 2 of type dbl</caption>\n",
       "<tbody>\n",
       "\t<tr><td>1</td><td>-2.2930074</td></tr>\n",
       "\t<tr><td>1</td><td>-1.8863657</td></tr>\n",
       "\t<tr><td>1</td><td>-1.7508184</td></tr>\n",
       "\t<tr><td>1</td><td>-0.9375350</td></tr>\n",
       "\t<tr><td>1</td><td>-0.5308933</td></tr>\n",
       "\t<tr><td>1</td><td>-0.3953461</td></tr>\n",
       "\t<tr><td>1</td><td>-0.3953461</td></tr>\n",
       "\t<tr><td>1</td><td>-0.3953461</td></tr>\n",
       "\t<tr><td>1</td><td>-0.2597989</td></tr>\n",
       "\t<tr><td>1</td><td>-0.1242516</td></tr>\n",
       "\t<tr><td>1</td><td> 0.0112956</td></tr>\n",
       "\t<tr><td>1</td><td> 0.0112956</td></tr>\n",
       "\t<tr><td>1</td><td> 0.0112956</td></tr>\n",
       "\t<tr><td>1</td><td> 0.0112956</td></tr>\n",
       "\t<tr><td>1</td><td> 0.2823901</td></tr>\n",
       "\t<tr><td>1</td><td> 0.4179373</td></tr>\n",
       "\t<tr><td>1</td><td> 0.6890318</td></tr>\n",
       "\t<tr><td>1</td><td> 0.6890318</td></tr>\n",
       "\t<tr><td>1</td><td> 0.8245790</td></tr>\n",
       "\t<tr><td>1</td><td> 0.8245790</td></tr>\n",
       "\t<tr><td>1</td><td> 1.0956735</td></tr>\n",
       "\t<tr><td>1</td><td> 1.2312207</td></tr>\n",
       "\t<tr><td>1</td><td> 1.3667680</td></tr>\n",
       "\t<tr><td>1</td><td> 1.5023152</td></tr>\n",
       "</tbody>\n",
       "</table>\n"
      ],
      "text/latex": [
       "A matrix: 24 × 2 of type dbl\n",
       "\\begin{tabular}{ll}\n",
       "\t 1 & -2.2930074\\\\\n",
       "\t 1 & -1.8863657\\\\\n",
       "\t 1 & -1.7508184\\\\\n",
       "\t 1 & -0.9375350\\\\\n",
       "\t 1 & -0.5308933\\\\\n",
       "\t 1 & -0.3953461\\\\\n",
       "\t 1 & -0.3953461\\\\\n",
       "\t 1 & -0.3953461\\\\\n",
       "\t 1 & -0.2597989\\\\\n",
       "\t 1 & -0.1242516\\\\\n",
       "\t 1 &  0.0112956\\\\\n",
       "\t 1 &  0.0112956\\\\\n",
       "\t 1 &  0.0112956\\\\\n",
       "\t 1 &  0.0112956\\\\\n",
       "\t 1 &  0.2823901\\\\\n",
       "\t 1 &  0.4179373\\\\\n",
       "\t 1 &  0.6890318\\\\\n",
       "\t 1 &  0.6890318\\\\\n",
       "\t 1 &  0.8245790\\\\\n",
       "\t 1 &  0.8245790\\\\\n",
       "\t 1 &  1.0956735\\\\\n",
       "\t 1 &  1.2312207\\\\\n",
       "\t 1 &  1.3667680\\\\\n",
       "\t 1 &  1.5023152\\\\\n",
       "\\end{tabular}\n"
      ],
      "text/markdown": [
       "\n",
       "A matrix: 24 × 2 of type dbl\n",
       "\n",
       "| 1 | -2.2930074 |\n",
       "| 1 | -1.8863657 |\n",
       "| 1 | -1.7508184 |\n",
       "| 1 | -0.9375350 |\n",
       "| 1 | -0.5308933 |\n",
       "| 1 | -0.3953461 |\n",
       "| 1 | -0.3953461 |\n",
       "| 1 | -0.3953461 |\n",
       "| 1 | -0.2597989 |\n",
       "| 1 | -0.1242516 |\n",
       "| 1 |  0.0112956 |\n",
       "| 1 |  0.0112956 |\n",
       "| 1 |  0.0112956 |\n",
       "| 1 |  0.0112956 |\n",
       "| 1 |  0.2823901 |\n",
       "| 1 |  0.4179373 |\n",
       "| 1 |  0.6890318 |\n",
       "| 1 |  0.6890318 |\n",
       "| 1 |  0.8245790 |\n",
       "| 1 |  0.8245790 |\n",
       "| 1 |  1.0956735 |\n",
       "| 1 |  1.2312207 |\n",
       "| 1 |  1.3667680 |\n",
       "| 1 |  1.5023152 |\n",
       "\n"
      ],
      "text/plain": [
       "      [,1] [,2]      \n",
       " [1,] 1    -2.2930074\n",
       " [2,] 1    -1.8863657\n",
       " [3,] 1    -1.7508184\n",
       " [4,] 1    -0.9375350\n",
       " [5,] 1    -0.5308933\n",
       " [6,] 1    -0.3953461\n",
       " [7,] 1    -0.3953461\n",
       " [8,] 1    -0.3953461\n",
       " [9,] 1    -0.2597989\n",
       "[10,] 1    -0.1242516\n",
       "[11,] 1     0.0112956\n",
       "[12,] 1     0.0112956\n",
       "[13,] 1     0.0112956\n",
       "[14,] 1     0.0112956\n",
       "[15,] 1     0.2823901\n",
       "[16,] 1     0.4179373\n",
       "[17,] 1     0.6890318\n",
       "[18,] 1     0.6890318\n",
       "[19,] 1     0.8245790\n",
       "[20,] 1     0.8245790\n",
       "[21,] 1     1.0956735\n",
       "[22,] 1     1.2312207\n",
       "[23,] 1     1.3667680\n",
       "[24,] 1     1.5023152"
      ]
     },
     "metadata": {},
     "output_type": "display_data"
    }
   ],
   "source": [
    "x"
   ]
  },
  {
   "cell_type": "markdown",
   "metadata": {},
   "source": [
    "#### Part 3\n",
    "Provide a plot of the original data along with your logistic model."
   ]
  },
  {
   "cell_type": "code",
   "execution_count": 23,
   "metadata": {},
   "outputs": [
    {
     "data": {
      "image/png": "[encoded data removed]",
      "text/plain": [
       "Plot with title “Data and Model Comparison”"
      ]
     },
     "metadata": {
      "image/png": {
       "height": 420,
       "width": 420
      },
      "text/plain": {
       "height": 420,
       "width": 420
      }
     },
     "output_type": "display_data"
    }
   ],
   "source": [
    "plot(oring_nor, xlim=c(-5,5),  main = 'Data and Model Comparison', xlab = 'Temperature', ylab = 'Failure')\n",
    "s = function(x) 1 / (1 + exp(-x))\n",
    "plot = cbind(rep(1, length(seq(-5,5,0.01))), seq(-5,5,0.01))\n",
    "lines(seq(-5,5, 0.01), apply(plot, 1, function(x) s((w1 %*% x))), col = 'blue')\n",
    "legend(\"topright\", legend = c('Original Data', 'Model'), text.col = c('black','blue'))"
   ]
  },
  {
   "cell_type": "code",
   "execution_count": null,
   "metadata": {},
   "outputs": [],
   "source": []
  },
  {
   "cell_type": "markdown",
   "metadata": {},
   "source": [
    "#### Part 4\n",
    "The actual temperature at the Challenger launch was 31 degrees Fahren- heit. According to your model what was the probability of O-ring failure on the Challenger launch? Could the engineers have used your model to provide a convincing argument to NASA? Elaborate."
   ]
  },
  {
   "cell_type": "code",
   "execution_count": 12,
   "metadata": {},
   "outputs": [],
   "source": [
    "norm = (31 - mean(oring$Temp)) / sd(oring$Temp)"
   ]
  },
  {
   "cell_type": "code",
   "execution_count": 241,
   "metadata": {},
   "outputs": [
    {
     "name": "stdout",
     "output_type": "stream",
     "text": [
      "          [,1]\n",
      "[1,] 0.9961827\n"
     ]
    }
   ],
   "source": [
    "p = 1/(1+exp(-(w1 %*% c(1,norm))))\n",
    "print(p)"
   ]
  },
  {
   "cell_type": "markdown",
   "metadata": {},
   "source": [
    "$p̂ (31)=0.9961827$\n",
    "\n",
    "As you can see, base on the model created, the probability of the o-ring failure is around 99.6% with a launch temperature of 31 degrees Fahrenheit. Due to the contradiction, I would say this is unlikely to be a convincing argument to NASA since it isn't accruate."
   ]
  },
  {
   "cell_type": "code",
   "execution_count": null,
   "metadata": {},
   "outputs": [],
   "source": []
  }
 ],
 "metadata": {
  "kernelspec": {
   "display_name": "R",
   "language": "R",
   "name": "ir"
  },
  "language_info": {
   "codemirror_mode": "r",
   "file_extension": ".r",
   "mimetype": "text/x-r-source",
   "name": "R",
   "pygments_lexer": "r",
   "version": "3.6.1"
  }
 },
 "nbformat": 4,
 "nbformat_minor": 2
}
